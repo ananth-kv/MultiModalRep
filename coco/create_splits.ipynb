{
 "cells": [
  {
   "cell_type": "code",
   "execution_count": 1,
   "metadata": {
    "collapsed": false
   },
   "outputs": [
    {
     "name": "stdout",
     "output_type": "stream",
     "text": [
      "('List of arrays in this file: \\n', [u'images', u'label_end_ix', u'label_length', u'label_start_ix', u'labels', u'sth_vectors'])\n"
     ]
    }
   ],
   "source": [
    "import h5py\n",
    "import numpy as np\n",
    "with h5py.File('test_cocotalk.h5','r') as hf:\n",
    "    print('List of arrays in this file: \\n', hf.keys())\n",
    "    images = np.array(hf.get('images'))"
   ]
  },
  {
   "cell_type": "code",
   "execution_count": 4,
   "metadata": {
    "collapsed": true
   },
   "outputs": [],
   "source": [
    "with h5py.File('test_cocotalk.h5','r') as hf:\n",
    "    labels = np.array(hf.get('labels'))\n",
    "    sth_vectors = np.array(hf.get('sth_vectors'))\n",
    "    lablabel_start_ixels = np.array(hf.get('label_start_ix'))\n",
    "    label_end_ix = np.array(hf.get('label_end_ix'))\n",
    "    label_length = np.array(hf.get('label_length'))"
   ]
  },
  {
   "cell_type": "code",
   "execution_count": null,
   "metadata": {
    "collapsed": true
   },
   "outputs": [],
   "source": [
    "import json\n",
    "fil = json.load(open('test_cocotalk.json','r'))"
   ]
  },
  {
   "cell_type": "code",
   "execution_count": 188,
   "metadata": {
    "collapsed": false
   },
   "outputs": [
    {
     "name": "stdout",
     "output_type": "stream",
     "text": [
      "(15000, 5, 55000)\n"
     ]
    }
   ],
   "source": [
    "count = 0\n",
    "num_train = [5]\n",
    "for num in num_train:\n",
    "    index = []\n",
    "    #count = 0\n",
    "    count = 50000\n",
    "    for i,item in enumerate(fil['images']):\n",
    "        if item['split'] == 'test':\n",
    "            index.append(i)\n",
    "        elif item['split'] == 'val':\n",
    "            index.append(i)\n",
    "        elif item['split'] == 'train' and count >= 50000 and count < (50000 + num*1000):\n",
    "            index.append(i)\n",
    "            count = count + 1\n",
    "        \n",
    "    print(len(index), num, count)\n",
    "\n",
    "    out = {}\n",
    "    out['ix_to_word'] = fil['ix_to_word']\n",
    "    out['images'] = [fil['images'][im] for im in index]\n",
    "    fileName = ''.join(['coco_',str(num),'k_2.json'])\n",
    "    json.dump(out, open(fileName, 'w'))"
   ]
  },
  {
   "cell_type": "code",
   "execution_count": 183,
   "metadata": {
    "collapsed": false
   },
   "outputs": [],
   "source": [
    "import json\n",
    "k1 = json.load(open('coco_1k_3.json','r'))\n",
    "k5 = json.load(open('coco_5k_3.json','r'))"
   ]
  },
  {
   "cell_type": "code",
   "execution_count": 184,
   "metadata": {
    "collapsed": false
   },
   "outputs": [
    {
     "data": {
      "text/plain": [
       "(11000, 15000)"
      ]
     },
     "execution_count": 184,
     "metadata": {},
     "output_type": "execute_result"
    }
   ],
   "source": [
    "len(k1['images']),len(k5['images'])"
   ]
  },
  {
   "cell_type": "code",
   "execution_count": null,
   "metadata": {
    "collapsed": true
   },
   "outputs": [],
   "source": []
  }
 ],
 "metadata": {
  "kernelspec": {
   "display_name": "Python 2",
   "language": "python",
   "name": "python2"
  },
  "language_info": {
   "codemirror_mode": {
    "name": "ipython",
    "version": 2
   },
   "file_extension": ".py",
   "mimetype": "text/x-python",
   "name": "python",
   "nbconvert_exporter": "python",
   "pygments_lexer": "ipython2",
   "version": "2.7.6"
  }
 },
 "nbformat": 4,
 "nbformat_minor": 0
}
